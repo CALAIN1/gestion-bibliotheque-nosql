{
 "cells": [
  {
   "cell_type": "code",
   "execution_count": 3,
   "metadata": {},
   "outputs": [
    {
     "data": {
      "text/plain": [
       "'use_case_gestion_bibliotheque.png'"
      ]
     },
     "execution_count": 3,
     "metadata": {},
     "output_type": "execute_result"
    }
   ],
   "source": [
    "from graphviz import Digraph\n",
    "\n",
    "# Création du diagramme des cas d'utilisation\n",
    "use_case = Digraph(\"CasUtilisationBibliotheque\", format=\"png\")\n",
    "\n",
    "# Définition des acteurs\n",
    "use_case.node(\"Admin\", shape=\"ellipse\")\n",
    "use_case.node(\"Utilisateur\", shape=\"ellipse\")\n",
    "\n",
    "# Définition des cas d'utilisation\n",
    "use_case.node(\"AjouterLivre\", \"Ajouter un livre\", shape=\"box\")\n",
    "use_case.node(\"ModifierLivre\", \"Modifier un livre\", shape=\"box\")\n",
    "use_case.node(\"SupprimerLivre\", \"Supprimer un livre\", shape=\"box\")\n",
    "use_case.node(\"GererUtilisateurs\", \"Gérer les utilisateurs\", shape=\"box\")\n",
    "use_case.node(\"GererRayons\", \"Gérer les rayons\", shape=\"box\")\n",
    "\n",
    "use_case.node(\"ConsulterLivres\", \"Consulter les livres\", shape=\"box\")\n",
    "use_case.node(\"EmprunterLivre\", \"Emprunter un livre\", shape=\"box\")\n",
    "use_case.node(\"RendreLivre\", \"Rendre un livre\", shape=\"box\")\n",
    "\n",
    "# Relations entre acteurs et cas d'utilisation\n",
    "use_case.edge(\"Admin\", \"AjouterLivre\")\n",
    "use_case.edge(\"Admin\", \"ModifierLivre\")\n",
    "use_case.edge(\"Admin\", \"SupprimerLivre\")\n",
    "use_case.edge(\"Admin\", \"GererUtilisateurs\")\n",
    "use_case.edge(\"Admin\", \"GererRayons\")\n",
    "\n",
    "use_case.edge(\"Utilisateur\", \"ConsulterLivres\")\n",
    "use_case.edge(\"Utilisateur\", \"EmprunterLivre\")\n",
    "use_case.edge(\"Utilisateur\", \"RendreLivre\")\n",
    "\n",
    "# Affichage du diagramme des cas d'utilisation\n",
    "use_case_path = \"use_case_gestion_bibliotheque.png\"\n",
    "use_case.render(use_case_path, format=\"png\", cleanup=True)\n",
    "\n",
    "use_case_path\n"
   ]
  }
 ],
 "metadata": {
  "kernelspec": {
   "display_name": "Python 3",
   "language": "python",
   "name": "python3"
  },
  "language_info": {
   "codemirror_mode": {
    "name": "ipython",
    "version": 3
   },
   "file_extension": ".py",
   "mimetype": "text/x-python",
   "name": "python",
   "nbconvert_exporter": "python",
   "pygments_lexer": "ipython3",
   "version": "3.11.0"
  }
 },
 "nbformat": 4,
 "nbformat_minor": 2
}
