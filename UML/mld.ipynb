{
 "cells": [
  {
   "cell_type": "code",
   "execution_count": 2,
   "metadata": {},
   "outputs": [
    {
     "data": {
      "text/plain": [
       "'mld_gestion_bibliotheque.png'"
      ]
     },
     "execution_count": 2,
     "metadata": {},
     "output_type": "execute_result"
    }
   ],
   "source": [
    "from graphviz import Digraph\n",
    "\n",
    "# Création du diagramme MLD\n",
    "mld = Digraph(\"MLD_GestionBibliotheque\", format=\"png\")\n",
    "\n",
    "# Définition des collections MongoDB\n",
    "mld.node(\"rayons\", shape=\"cylinder\")\n",
    "mld.node(\"livres\", shape=\"cylinder\")\n",
    "mld.node(\"utilisateurs\", shape=\"cylinder\")\n",
    "mld.node(\"emprunts\", shape=\"cylinder\")\n",
    "\n",
    "# Attributs des collections\n",
    "mld.node(\"rayon_id\", label=\"_id\\nnom\", shape=\"box\")\n",
    "mld.node(\"livre_id\", label=\"_id\\ntitre\\nauteur\\nrayon_id\", shape=\"box\")\n",
    "mld.node(\"user_id\", label=\"_id\\nnom\\nemail\\npassword\\nrole\", shape=\"box\")\n",
    "mld.node(\"emprunt_id\", label=\"_id\\nuser_id\\nlivre_id\\ndate_emprunt\\ndate_retour\", shape=\"box\")\n",
    "\n",
    "# Relations entre collections\n",
    "mld.edge(\"rayons\", \"rayon_id\", label=\"Possède\")\n",
    "mld.edge(\"rayon_id\", \"livres\", label=\"Contient des livres\")\n",
    "\n",
    "mld.edge(\"livres\", \"livre_id\", label=\"Stocke\")\n",
    "mld.edge(\"livre_id\", \"emprunts\", label=\"Emprunté dans\")\n",
    "\n",
    "mld.edge(\"utilisateurs\", \"user_id\", label=\"Utilise\")\n",
    "mld.edge(\"user_id\", \"emprunts\", label=\"Effectue\")\n",
    "\n",
    "# Affichage du diagramme MLD\n",
    "mld_path = \"mld_gestion_bibliotheque.png\"\n",
    "mld.render(mld_path, format=\"png\", cleanup=True)\n",
    "\n",
    "mld_path\n"
   ]
  }
 ],
 "metadata": {
  "kernelspec": {
   "display_name": "Python 3",
   "language": "python",
   "name": "python3"
  },
  "language_info": {
   "codemirror_mode": {
    "name": "ipython",
    "version": 3
   },
   "file_extension": ".py",
   "mimetype": "text/x-python",
   "name": "python",
   "nbconvert_exporter": "python",
   "pygments_lexer": "ipython3",
   "version": "3.11.0"
  }
 },
 "nbformat": 4,
 "nbformat_minor": 2
}
