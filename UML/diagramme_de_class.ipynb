{
 "cells": [
  {
   "cell_type": "code",
   "execution_count": 1,
   "metadata": {},
   "outputs": [
    {
     "data": {
      "text/plain": [
       "'uml_gestion_bibliotheque.png'"
      ]
     },
     "execution_count": 1,
     "metadata": {},
     "output_type": "execute_result"
    }
   ],
   "source": [
    "from graphviz import Digraph\n",
    "\n",
    "# Création du diagramme UML\n",
    "uml = Digraph(\"GestionBibliotheque\", format=\"png\")\n",
    "\n",
    "# Définition des classes principales\n",
    "uml.node(\"Database\", shape=\"rectangle\")\n",
    "uml.node(\"Livre\", shape=\"rectangle\")\n",
    "uml.node(\"Rayon\", shape=\"rectangle\")\n",
    "uml.node(\"Utilisateur\", shape=\"rectangle\")\n",
    "uml.node(\"Emprunt\", shape=\"rectangle\")\n",
    "uml.node(\"LivreController\", shape=\"rectangle\")\n",
    "uml.node(\"UtilisateurController\", shape=\"rectangle\")\n",
    "uml.node(\"EmpruntController\", shape=\"rectangle\")\n",
    "uml.node(\"Router\", shape=\"rectangle\")\n",
    "\n",
    "# Relations entre les classes\n",
    "uml.edge(\"Database\", \"Livre\", label=\"stocke\")\n",
    "uml.edge(\"Database\", \"Rayon\", label=\"stocke\")\n",
    "uml.edge(\"Database\", \"Utilisateur\", label=\"stocke\")\n",
    "uml.edge(\"Database\", \"Emprunt\", label=\"stocke\")\n",
    "\n",
    "uml.edge(\"Livre\", \"Rayon\", label=\"appartient à\")\n",
    "uml.edge(\"Utilisateur\", \"Emprunt\", label=\"peut emprunter\")\n",
    "uml.edge(\"Emprunt\", \"Livre\", label=\"concerne\")\n",
    "uml.edge(\"Emprunt\", \"Utilisateur\", label=\"fait par\")\n",
    "\n",
    "uml.edge(\"LivreController\", \"Livre\", label=\"gère\")\n",
    "uml.edge(\"UtilisateurController\", \"Utilisateur\", label=\"gère\")\n",
    "uml.edge(\"EmpruntController\", \"Emprunt\", label=\"gère\")\n",
    "\n",
    "uml.edge(\"Router\", \"LivreController\", label=\"appelle\")\n",
    "uml.edge(\"Router\", \"UtilisateurController\", label=\"appelle\")\n",
    "uml.edge(\"Router\", \"EmpruntController\", label=\"appelle\")\n",
    "\n",
    "# Affichage du diagramme UML\n",
    "uml_path = \"uml_gestion_bibliotheque.png\"\n",
    "uml.render(uml_path, format=\"png\", cleanup=True)\n",
    "\n",
    "uml_path\n"
   ]
  }
 ],
 "metadata": {
  "kernelspec": {
   "display_name": "Python 3",
   "language": "python",
   "name": "python3"
  },
  "language_info": {
   "codemirror_mode": {
    "name": "ipython",
    "version": 3
   },
   "file_extension": ".py",
   "mimetype": "text/x-python",
   "name": "python",
   "nbconvert_exporter": "python",
   "pygments_lexer": "ipython3",
   "version": "3.11.0"
  }
 },
 "nbformat": 4,
 "nbformat_minor": 2
}
